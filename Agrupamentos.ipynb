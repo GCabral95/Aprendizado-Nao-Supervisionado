{
 "cells": [
  {
   "cell_type": "code",
   "execution_count": 1,
   "metadata": {},
   "outputs": [],
   "source": [
    "import pandas as pd\n",
    "import numpy as np\n",
    "import math\n",
    "import statistics as st\n",
    "import seaborn as sns\n",
    "import matplotlib.pyplot as plt\n",
    "import scipy\n",
    "import warnings\n",
    "warnings.filterwarnings(\"ignore\")"
   ]
  },
  {
   "cell_type": "markdown",
   "metadata": {},
   "source": [
    "* Base de pokemons"
   ]
  },
  {
   "cell_type": "code",
   "execution_count": 2,
   "metadata": {},
   "outputs": [],
   "source": [
    "pokemon = pd.read_csv('pokemon.csv')"
   ]
  },
  {
   "cell_type": "code",
   "execution_count": 3,
   "metadata": {},
   "outputs": [
    {
     "data": {
      "text/html": [
       "<div>\n",
       "<style scoped>\n",
       "    .dataframe tbody tr th:only-of-type {\n",
       "        vertical-align: middle;\n",
       "    }\n",
       "\n",
       "    .dataframe tbody tr th {\n",
       "        vertical-align: top;\n",
       "    }\n",
       "\n",
       "    .dataframe thead th {\n",
       "        text-align: right;\n",
       "    }\n",
       "</style>\n",
       "<table border=\"1\" class=\"dataframe\">\n",
       "  <thead>\n",
       "    <tr style=\"text-align: right;\">\n",
       "      <th></th>\n",
       "      <th>abilities</th>\n",
       "      <th>against_bug</th>\n",
       "      <th>against_dark</th>\n",
       "      <th>against_dragon</th>\n",
       "      <th>against_electric</th>\n",
       "      <th>against_fairy</th>\n",
       "      <th>against_fight</th>\n",
       "      <th>against_fire</th>\n",
       "      <th>against_flying</th>\n",
       "      <th>against_ghost</th>\n",
       "      <th>against_grass</th>\n",
       "      <th>against_ground</th>\n",
       "      <th>against_ice</th>\n",
       "      <th>against_normal</th>\n",
       "      <th>against_poison</th>\n",
       "      <th>against_psychic</th>\n",
       "      <th>against_rock</th>\n",
       "      <th>against_steel</th>\n",
       "      <th>against_water</th>\n",
       "      <th>attack</th>\n",
       "      <th>base_egg_steps</th>\n",
       "      <th>base_happiness</th>\n",
       "      <th>base_total</th>\n",
       "      <th>capture_rate</th>\n",
       "      <th>classfication</th>\n",
       "      <th>defense</th>\n",
       "      <th>experience_growth</th>\n",
       "      <th>height_m</th>\n",
       "      <th>hp</th>\n",
       "      <th>japanese_name</th>\n",
       "      <th>name</th>\n",
       "      <th>percentage_male</th>\n",
       "      <th>pokedex_number</th>\n",
       "      <th>sp_attack</th>\n",
       "      <th>sp_defense</th>\n",
       "      <th>speed</th>\n",
       "      <th>type1</th>\n",
       "      <th>type2</th>\n",
       "      <th>weight_kg</th>\n",
       "      <th>generation</th>\n",
       "      <th>is_legendary</th>\n",
       "    </tr>\n",
       "  </thead>\n",
       "  <tbody>\n",
       "    <tr>\n",
       "      <th>0</th>\n",
       "      <td>['Overgrow', 'Chlorophyll']</td>\n",
       "      <td>1.0</td>\n",
       "      <td>1.0</td>\n",
       "      <td>1.0</td>\n",
       "      <td>0.5</td>\n",
       "      <td>0.5</td>\n",
       "      <td>0.5</td>\n",
       "      <td>2.0</td>\n",
       "      <td>2.0</td>\n",
       "      <td>1.0</td>\n",
       "      <td>0.25</td>\n",
       "      <td>1.0</td>\n",
       "      <td>2.0</td>\n",
       "      <td>1.0</td>\n",
       "      <td>1.0</td>\n",
       "      <td>2.0</td>\n",
       "      <td>1.0</td>\n",
       "      <td>1.0</td>\n",
       "      <td>0.5</td>\n",
       "      <td>49</td>\n",
       "      <td>5120</td>\n",
       "      <td>70</td>\n",
       "      <td>318</td>\n",
       "      <td>45</td>\n",
       "      <td>Seed Pokémon</td>\n",
       "      <td>49</td>\n",
       "      <td>1059860</td>\n",
       "      <td>0.7</td>\n",
       "      <td>45</td>\n",
       "      <td>Fushigidaneフシギダネ</td>\n",
       "      <td>Bulbasaur</td>\n",
       "      <td>88.1</td>\n",
       "      <td>1</td>\n",
       "      <td>65</td>\n",
       "      <td>65</td>\n",
       "      <td>45</td>\n",
       "      <td>grass</td>\n",
       "      <td>poison</td>\n",
       "      <td>6.9</td>\n",
       "      <td>1</td>\n",
       "      <td>0</td>\n",
       "    </tr>\n",
       "    <tr>\n",
       "      <th>1</th>\n",
       "      <td>['Overgrow', 'Chlorophyll']</td>\n",
       "      <td>1.0</td>\n",
       "      <td>1.0</td>\n",
       "      <td>1.0</td>\n",
       "      <td>0.5</td>\n",
       "      <td>0.5</td>\n",
       "      <td>0.5</td>\n",
       "      <td>2.0</td>\n",
       "      <td>2.0</td>\n",
       "      <td>1.0</td>\n",
       "      <td>0.25</td>\n",
       "      <td>1.0</td>\n",
       "      <td>2.0</td>\n",
       "      <td>1.0</td>\n",
       "      <td>1.0</td>\n",
       "      <td>2.0</td>\n",
       "      <td>1.0</td>\n",
       "      <td>1.0</td>\n",
       "      <td>0.5</td>\n",
       "      <td>62</td>\n",
       "      <td>5120</td>\n",
       "      <td>70</td>\n",
       "      <td>405</td>\n",
       "      <td>45</td>\n",
       "      <td>Seed Pokémon</td>\n",
       "      <td>63</td>\n",
       "      <td>1059860</td>\n",
       "      <td>1.0</td>\n",
       "      <td>60</td>\n",
       "      <td>Fushigisouフシギソウ</td>\n",
       "      <td>Ivysaur</td>\n",
       "      <td>88.1</td>\n",
       "      <td>2</td>\n",
       "      <td>80</td>\n",
       "      <td>80</td>\n",
       "      <td>60</td>\n",
       "      <td>grass</td>\n",
       "      <td>poison</td>\n",
       "      <td>13.0</td>\n",
       "      <td>1</td>\n",
       "      <td>0</td>\n",
       "    </tr>\n",
       "    <tr>\n",
       "      <th>2</th>\n",
       "      <td>['Overgrow', 'Chlorophyll']</td>\n",
       "      <td>1.0</td>\n",
       "      <td>1.0</td>\n",
       "      <td>1.0</td>\n",
       "      <td>0.5</td>\n",
       "      <td>0.5</td>\n",
       "      <td>0.5</td>\n",
       "      <td>2.0</td>\n",
       "      <td>2.0</td>\n",
       "      <td>1.0</td>\n",
       "      <td>0.25</td>\n",
       "      <td>1.0</td>\n",
       "      <td>2.0</td>\n",
       "      <td>1.0</td>\n",
       "      <td>1.0</td>\n",
       "      <td>2.0</td>\n",
       "      <td>1.0</td>\n",
       "      <td>1.0</td>\n",
       "      <td>0.5</td>\n",
       "      <td>100</td>\n",
       "      <td>5120</td>\n",
       "      <td>70</td>\n",
       "      <td>625</td>\n",
       "      <td>45</td>\n",
       "      <td>Seed Pokémon</td>\n",
       "      <td>123</td>\n",
       "      <td>1059860</td>\n",
       "      <td>2.0</td>\n",
       "      <td>80</td>\n",
       "      <td>Fushigibanaフシギバナ</td>\n",
       "      <td>Venusaur</td>\n",
       "      <td>88.1</td>\n",
       "      <td>3</td>\n",
       "      <td>122</td>\n",
       "      <td>120</td>\n",
       "      <td>80</td>\n",
       "      <td>grass</td>\n",
       "      <td>poison</td>\n",
       "      <td>100.0</td>\n",
       "      <td>1</td>\n",
       "      <td>0</td>\n",
       "    </tr>\n",
       "    <tr>\n",
       "      <th>3</th>\n",
       "      <td>['Blaze', 'Solar Power']</td>\n",
       "      <td>0.5</td>\n",
       "      <td>1.0</td>\n",
       "      <td>1.0</td>\n",
       "      <td>1.0</td>\n",
       "      <td>0.5</td>\n",
       "      <td>1.0</td>\n",
       "      <td>0.5</td>\n",
       "      <td>1.0</td>\n",
       "      <td>1.0</td>\n",
       "      <td>0.50</td>\n",
       "      <td>2.0</td>\n",
       "      <td>0.5</td>\n",
       "      <td>1.0</td>\n",
       "      <td>1.0</td>\n",
       "      <td>1.0</td>\n",
       "      <td>2.0</td>\n",
       "      <td>0.5</td>\n",
       "      <td>2.0</td>\n",
       "      <td>52</td>\n",
       "      <td>5120</td>\n",
       "      <td>70</td>\n",
       "      <td>309</td>\n",
       "      <td>45</td>\n",
       "      <td>Lizard Pokémon</td>\n",
       "      <td>43</td>\n",
       "      <td>1059860</td>\n",
       "      <td>0.6</td>\n",
       "      <td>39</td>\n",
       "      <td>Hitokageヒトカゲ</td>\n",
       "      <td>Charmander</td>\n",
       "      <td>88.1</td>\n",
       "      <td>4</td>\n",
       "      <td>60</td>\n",
       "      <td>50</td>\n",
       "      <td>65</td>\n",
       "      <td>fire</td>\n",
       "      <td>NaN</td>\n",
       "      <td>8.5</td>\n",
       "      <td>1</td>\n",
       "      <td>0</td>\n",
       "    </tr>\n",
       "    <tr>\n",
       "      <th>4</th>\n",
       "      <td>['Blaze', 'Solar Power']</td>\n",
       "      <td>0.5</td>\n",
       "      <td>1.0</td>\n",
       "      <td>1.0</td>\n",
       "      <td>1.0</td>\n",
       "      <td>0.5</td>\n",
       "      <td>1.0</td>\n",
       "      <td>0.5</td>\n",
       "      <td>1.0</td>\n",
       "      <td>1.0</td>\n",
       "      <td>0.50</td>\n",
       "      <td>2.0</td>\n",
       "      <td>0.5</td>\n",
       "      <td>1.0</td>\n",
       "      <td>1.0</td>\n",
       "      <td>1.0</td>\n",
       "      <td>2.0</td>\n",
       "      <td>0.5</td>\n",
       "      <td>2.0</td>\n",
       "      <td>64</td>\n",
       "      <td>5120</td>\n",
       "      <td>70</td>\n",
       "      <td>405</td>\n",
       "      <td>45</td>\n",
       "      <td>Flame Pokémon</td>\n",
       "      <td>58</td>\n",
       "      <td>1059860</td>\n",
       "      <td>1.1</td>\n",
       "      <td>58</td>\n",
       "      <td>Lizardoリザード</td>\n",
       "      <td>Charmeleon</td>\n",
       "      <td>88.1</td>\n",
       "      <td>5</td>\n",
       "      <td>80</td>\n",
       "      <td>65</td>\n",
       "      <td>80</td>\n",
       "      <td>fire</td>\n",
       "      <td>NaN</td>\n",
       "      <td>19.0</td>\n",
       "      <td>1</td>\n",
       "      <td>0</td>\n",
       "    </tr>\n",
       "  </tbody>\n",
       "</table>\n",
       "</div>"
      ],
      "text/plain": [
       "                     abilities  against_bug  against_dark  against_dragon  \\\n",
       "0  ['Overgrow', 'Chlorophyll']          1.0           1.0             1.0   \n",
       "1  ['Overgrow', 'Chlorophyll']          1.0           1.0             1.0   \n",
       "2  ['Overgrow', 'Chlorophyll']          1.0           1.0             1.0   \n",
       "3     ['Blaze', 'Solar Power']          0.5           1.0             1.0   \n",
       "4     ['Blaze', 'Solar Power']          0.5           1.0             1.0   \n",
       "\n",
       "   against_electric  against_fairy  against_fight  against_fire  \\\n",
       "0               0.5            0.5            0.5           2.0   \n",
       "1               0.5            0.5            0.5           2.0   \n",
       "2               0.5            0.5            0.5           2.0   \n",
       "3               1.0            0.5            1.0           0.5   \n",
       "4               1.0            0.5            1.0           0.5   \n",
       "\n",
       "   against_flying  against_ghost  against_grass  against_ground  against_ice  \\\n",
       "0             2.0            1.0           0.25             1.0          2.0   \n",
       "1             2.0            1.0           0.25             1.0          2.0   \n",
       "2             2.0            1.0           0.25             1.0          2.0   \n",
       "3             1.0            1.0           0.50             2.0          0.5   \n",
       "4             1.0            1.0           0.50             2.0          0.5   \n",
       "\n",
       "   against_normal  against_poison  against_psychic  against_rock  \\\n",
       "0             1.0             1.0              2.0           1.0   \n",
       "1             1.0             1.0              2.0           1.0   \n",
       "2             1.0             1.0              2.0           1.0   \n",
       "3             1.0             1.0              1.0           2.0   \n",
       "4             1.0             1.0              1.0           2.0   \n",
       "\n",
       "   against_steel  against_water  attack  base_egg_steps  base_happiness  \\\n",
       "0            1.0            0.5      49            5120              70   \n",
       "1            1.0            0.5      62            5120              70   \n",
       "2            1.0            0.5     100            5120              70   \n",
       "3            0.5            2.0      52            5120              70   \n",
       "4            0.5            2.0      64            5120              70   \n",
       "\n",
       "   base_total capture_rate   classfication  defense  experience_growth  \\\n",
       "0         318           45    Seed Pokémon       49            1059860   \n",
       "1         405           45    Seed Pokémon       63            1059860   \n",
       "2         625           45    Seed Pokémon      123            1059860   \n",
       "3         309           45  Lizard Pokémon       43            1059860   \n",
       "4         405           45   Flame Pokémon       58            1059860   \n",
       "\n",
       "   height_m  hp     japanese_name        name  percentage_male  \\\n",
       "0       0.7  45  Fushigidaneフシギダネ   Bulbasaur             88.1   \n",
       "1       1.0  60   Fushigisouフシギソウ     Ivysaur             88.1   \n",
       "2       2.0  80  Fushigibanaフシギバナ    Venusaur             88.1   \n",
       "3       0.6  39      Hitokageヒトカゲ  Charmander             88.1   \n",
       "4       1.1  58       Lizardoリザード  Charmeleon             88.1   \n",
       "\n",
       "   pokedex_number  sp_attack  sp_defense  speed  type1   type2  weight_kg  \\\n",
       "0               1         65          65     45  grass  poison        6.9   \n",
       "1               2         80          80     60  grass  poison       13.0   \n",
       "2               3        122         120     80  grass  poison      100.0   \n",
       "3               4         60          50     65   fire     NaN        8.5   \n",
       "4               5         80          65     80   fire     NaN       19.0   \n",
       "\n",
       "   generation  is_legendary  \n",
       "0           1             0  \n",
       "1           1             0  \n",
       "2           1             0  \n",
       "3           1             0  \n",
       "4           1             0  "
      ]
     },
     "execution_count": 3,
     "metadata": {},
     "output_type": "execute_result"
    }
   ],
   "source": [
    "pd.set_option('display.max_columns', None)\n",
    "pokemon.head()"
   ]
  },
  {
   "cell_type": "markdown",
   "metadata": {},
   "source": [
    "# Clusterização Hierárquica"
   ]
  },
  {
   "cell_type": "markdown",
   "metadata": {},
   "source": [
    "* Selecionando algumas variáveis"
   ]
  },
  {
   "cell_type": "code",
   "execution_count": 4,
   "metadata": {},
   "outputs": [],
   "source": [
    "df = pokemon[['attack','speed']]"
   ]
  },
  {
   "cell_type": "code",
   "execution_count": 5,
   "metadata": {},
   "outputs": [
    {
     "data": {
      "text/html": [
       "<div>\n",
       "<style scoped>\n",
       "    .dataframe tbody tr th:only-of-type {\n",
       "        vertical-align: middle;\n",
       "    }\n",
       "\n",
       "    .dataframe tbody tr th {\n",
       "        vertical-align: top;\n",
       "    }\n",
       "\n",
       "    .dataframe thead th {\n",
       "        text-align: right;\n",
       "    }\n",
       "</style>\n",
       "<table border=\"1\" class=\"dataframe\">\n",
       "  <thead>\n",
       "    <tr style=\"text-align: right;\">\n",
       "      <th></th>\n",
       "      <th>attack</th>\n",
       "      <th>speed</th>\n",
       "    </tr>\n",
       "  </thead>\n",
       "  <tbody>\n",
       "    <tr>\n",
       "      <th>0</th>\n",
       "      <td>49</td>\n",
       "      <td>45</td>\n",
       "    </tr>\n",
       "    <tr>\n",
       "      <th>1</th>\n",
       "      <td>62</td>\n",
       "      <td>60</td>\n",
       "    </tr>\n",
       "    <tr>\n",
       "      <th>2</th>\n",
       "      <td>100</td>\n",
       "      <td>80</td>\n",
       "    </tr>\n",
       "    <tr>\n",
       "      <th>3</th>\n",
       "      <td>52</td>\n",
       "      <td>65</td>\n",
       "    </tr>\n",
       "    <tr>\n",
       "      <th>4</th>\n",
       "      <td>64</td>\n",
       "      <td>80</td>\n",
       "    </tr>\n",
       "  </tbody>\n",
       "</table>\n",
       "</div>"
      ],
      "text/plain": [
       "   attack  speed\n",
       "0      49     45\n",
       "1      62     60\n",
       "2     100     80\n",
       "3      52     65\n",
       "4      64     80"
      ]
     },
     "execution_count": 5,
     "metadata": {},
     "output_type": "execute_result"
    }
   ],
   "source": [
    "df.head()"
   ]
  },
  {
   "cell_type": "markdown",
   "metadata": {},
   "source": [
    "* Plotando as observações conforme as variáveis selecionadas"
   ]
  },
  {
   "cell_type": "code",
   "execution_count": 6,
   "metadata": {},
   "outputs": [
    {
     "data": {
      "text/plain": [
       "<AxesSubplot:xlabel='attack', ylabel='speed'>"
      ]
     },
     "execution_count": 6,
     "metadata": {},
     "output_type": "execute_result"
    },
    {
     "data": {
      "image/png": "[encoded data removed]",
      "text/plain": [
       "<Figure size 432x288 with 1 Axes>"
      ]
     },
     "metadata": {
      "needs_background": "light"
     },
     "output_type": "display_data"
    }
   ],
   "source": [
    "sns.regplot(x=df[\"attack\"], y=df[\"speed\"], fit_reg=False)"
   ]
  },
  {
   "cell_type": "code",
   "execution_count": 7,
   "metadata": {},
   "outputs": [],
   "source": [
    "from scipy.cluster.hierarchy import dendrogram, linkage\n",
    "from scipy import stats"
   ]
  },
  {
   "cell_type": "markdown",
   "metadata": {},
   "source": [
    "* Normalizando os dados"
   ]
  },
  {
   "cell_type": "code",
   "execution_count": 8,
   "metadata": {},
   "outputs": [],
   "source": [
    "df['attack_padronizado'] = stats.zscore(df['attack'])\n",
    "df['speed_padronizado'] = stats.zscore(df['speed'])"
   ]
  },
  {
   "cell_type": "code",
   "execution_count": 9,
   "metadata": {},
   "outputs": [
    {
     "data": {
      "text/html": [
       "<div>\n",
       "<style scoped>\n",
       "    .dataframe tbody tr th:only-of-type {\n",
       "        vertical-align: middle;\n",
       "    }\n",
       "\n",
       "    .dataframe tbody tr th {\n",
       "        vertical-align: top;\n",
       "    }\n",
       "\n",
       "    .dataframe thead th {\n",
       "        text-align: right;\n",
       "    }\n",
       "</style>\n",
       "<table border=\"1\" class=\"dataframe\">\n",
       "  <thead>\n",
       "    <tr style=\"text-align: right;\">\n",
       "      <th></th>\n",
       "      <th>attack</th>\n",
       "      <th>speed</th>\n",
       "      <th>attack_padronizado</th>\n",
       "      <th>speed_padronizado</th>\n",
       "    </tr>\n",
       "  </thead>\n",
       "  <tbody>\n",
       "    <tr>\n",
       "      <th>0</th>\n",
       "      <td>49</td>\n",
       "      <td>45</td>\n",
       "      <td>-0.897909</td>\n",
       "      <td>-0.738486</td>\n",
       "    </tr>\n",
       "    <tr>\n",
       "      <th>1</th>\n",
       "      <td>62</td>\n",
       "      <td>60</td>\n",
       "      <td>-0.493413</td>\n",
       "      <td>-0.219268</td>\n",
       "    </tr>\n",
       "    <tr>\n",
       "      <th>2</th>\n",
       "      <td>100</td>\n",
       "      <td>80</td>\n",
       "      <td>0.688960</td>\n",
       "      <td>0.473022</td>\n",
       "    </tr>\n",
       "    <tr>\n",
       "      <th>3</th>\n",
       "      <td>52</td>\n",
       "      <td>65</td>\n",
       "      <td>-0.804564</td>\n",
       "      <td>-0.046196</td>\n",
       "    </tr>\n",
       "    <tr>\n",
       "      <th>4</th>\n",
       "      <td>64</td>\n",
       "      <td>80</td>\n",
       "      <td>-0.431183</td>\n",
       "      <td>0.473022</td>\n",
       "    </tr>\n",
       "  </tbody>\n",
       "</table>\n",
       "</div>"
      ],
      "text/plain": [
       "   attack  speed  attack_padronizado  speed_padronizado\n",
       "0      49     45           -0.897909          -0.738486\n",
       "1      62     60           -0.493413          -0.219268\n",
       "2     100     80            0.688960           0.473022\n",
       "3      52     65           -0.804564          -0.046196\n",
       "4      64     80           -0.431183           0.473022"
      ]
     },
     "execution_count": 9,
     "metadata": {},
     "output_type": "execute_result"
    }
   ],
   "source": [
    "df.head()"
   ]
  },
  {
   "cell_type": "code",
   "execution_count": 10,
   "metadata": {},
   "outputs": [],
   "source": [
    "from sklearn.cluster import AgglomerativeClustering \n",
    "from sklearn.metrics import silhouette_score"
   ]
  },
  {
   "cell_type": "markdown",
   "metadata": {},
   "source": [
    "* O score silhouette mensura quão bem uma observação esta classificada no seu cluster\n",
    "    * Compara-se a distância dela com as outras observações do mesmo cluster com a distância para as observações do cluster mais próximo\n",
    "    * Nesta aplicação, retorna-se a média deste score entre todas as observações\n",
    "    * Testa-se como esse score varia conforme diferentes números de clusters (2 até 9 clusters)\n",
    "    * Aplica-se o método da média das distâncias (Average linkage), em que a similaridade entre dois clusters é definida pela média das distâncias de todos os pontos de um cluster em relação a todos os pontos do outro"
   ]
  },
  {
   "cell_type": "code",
   "execution_count": 11,
   "metadata": {},
   "outputs": [
    {
     "data": {
      "text/plain": [
       "[0.419669815282341,\n",
       " 0.3391637658271035,\n",
       " 0.199856570681384,\n",
       " 0.20327026343083154,\n",
       " 0.19667989679569625,\n",
       " 0.2623454707181343,\n",
       " 0.2535370918387783,\n",
       " 0.27741058235718224]"
      ]
     },
     "execution_count": 11,
     "metadata": {},
     "output_type": "execute_result"
    }
   ],
   "source": [
    "silhouette_scores = [] \n",
    "for n_cluster in range(2, 10):\n",
    "    silhouette_scores.append( \n",
    "        silhouette_score(df[['attack_padronizado','speed_padronizado']],\n",
    "                         AgglomerativeClustering(n_clusters = n_cluster, linkage = 'average').fit_predict(df[['attack_padronizado','speed_padronizado']])))\n",
    "silhouette_scores\n",
    "#Observa-se que o melhor índice é com 02 clusters"
   ]
  },
  {
   "cell_type": "markdown",
   "metadata": {},
   "source": [
    "* Plotando as observações classificadas em 02 clusters"
   ]
  },
  {
   "cell_type": "code",
   "execution_count": 12,
   "metadata": {},
   "outputs": [
    {
     "data": {
      "image/png": "[encoded data removed]",
      "text/plain": [
       "<Figure size 432x288 with 1 Axes>"
      ]
     },
     "metadata": {
      "needs_background": "light"
     },
     "output_type": "display_data"
    }
   ],
   "source": [
    "plt.scatter(df['attack_padronizado'], df['speed_padronizado'],  \n",
    "           c = AgglomerativeClustering(n_clusters = 2, linkage = 'average').fit_predict(df[['attack_padronizado','speed_padronizado']])) \n",
    "plt.show()"
   ]
  },
  {
   "cell_type": "markdown",
   "metadata": {},
   "source": [
    "* Mesmo teste anterior, só que empregando o metodo completo para calculo das distâncias (Complete linkage)\n",
    "    * Neste, a medida de similaridade entre dois clusters é definida pela menor distância de qualquer ponto do 1º cluster para qualquer ponto do 2º cluster"
   ]
  },
  {
   "cell_type": "code",
   "execution_count": 13,
   "metadata": {},
   "outputs": [
    {
     "data": {
      "text/plain": [
       "[0.28248003618018225,\n",
       " 0.2716177320408386,\n",
       " 0.25238301152977316,\n",
       " 0.24615250484274423,\n",
       " 0.2190208545894446,\n",
       " 0.2051745128659457,\n",
       " 0.2692104612265973,\n",
       " 0.2706612525784858]"
      ]
     },
     "execution_count": 13,
     "metadata": {},
     "output_type": "execute_result"
    }
   ],
   "source": [
    "silhouette_scores = [] \n",
    "for n_cluster in range(2, 10):\n",
    "    silhouette_scores.append( \n",
    "        silhouette_score(df[['attack_padronizado','speed_padronizado']],\n",
    "                         AgglomerativeClustering(n_clusters = n_cluster, linkage = 'complete').fit_predict(df[['attack_padronizado','speed_padronizado']])))\n",
    "silhouette_scores\n",
    "#Novamente, 02 clusters possui o melhor silhouette score, só que com diferença menor entre outras opções"
   ]
  },
  {
   "cell_type": "markdown",
   "metadata": {},
   "source": [
    "* Plotando as observações pelos clusters"
   ]
  },
  {
   "cell_type": "code",
   "execution_count": 14,
   "metadata": {},
   "outputs": [
    {
     "data": {
      "image/png": "[encoded data removed]",
      "text/plain": [
       "<Figure size 432x288 with 1 Axes>"
      ]
     },
     "metadata": {
      "needs_background": "light"
     },
     "output_type": "display_data"
    }
   ],
   "source": [
    "plt.scatter(df['attack_padronizado'], df['speed_padronizado'],  \n",
    "           c = AgglomerativeClustering(n_clusters = 2, linkage = 'complete').fit_predict(df[['attack_padronizado','speed_padronizado']])) \n",
    "plt.show()"
   ]
  },
  {
   "cell_type": "markdown",
   "metadata": {},
   "source": [
    "* Aplicando o método ward como medida de similaridade entre clusters\n",
    "    * Neste a distância entre dois clusters é a soma das distâncias ao quadrado entre os grupos\n",
    "    * Aplicando este método, busca-se minimizar a variância interna de cada cluster formado"
   ]
  },
  {
   "cell_type": "code",
   "execution_count": 15,
   "metadata": {},
   "outputs": [
    {
     "data": {
      "text/plain": [
       "[0.32320021867748405,\n",
       " 0.27620398966328485,\n",
       " 0.3266554590142857,\n",
       " 0.32488579493404324,\n",
       " 0.2893796443008761,\n",
       " 0.29204876423993703,\n",
       " 0.30326483541328353,\n",
       " 0.2939132998487823]"
      ]
     },
     "execution_count": 15,
     "metadata": {},
     "output_type": "execute_result"
    }
   ],
   "source": [
    "silhouette_scores = [] \n",
    "for n_cluster in range(2, 10):\n",
    "    silhouette_scores.append( \n",
    "        silhouette_score(df[['attack_padronizado','speed_padronizado']],\n",
    "                         AgglomerativeClustering(n_clusters = n_cluster, linkage = 'ward').fit_predict(df[['attack_padronizado','speed_padronizado']])))\n",
    "silhouette_scores\n",
    "#Pelo metodo Ward, o melhor score é com 04 Cluster"
   ]
  },
  {
   "cell_type": "markdown",
   "metadata": {},
   "source": [
    "* Plotando o cluster formado "
   ]
  },
  {
   "cell_type": "code",
   "execution_count": 16,
   "metadata": {},
   "outputs": [
    {
     "data": {
      "image/png": "[encoded data removed]",
      "text/plain": [
       "<Figure size 432x288 with 1 Axes>"
      ]
     },
     "metadata": {
      "needs_background": "light"
     },
     "output_type": "display_data"
    }
   ],
   "source": [
    "plt.scatter(df['attack_padronizado'], df['speed_padronizado'],  \n",
    "           c = AgglomerativeClustering(n_clusters = 4, linkage = 'ward').fit_predict(df[['attack_padronizado','speed_padronizado']])) \n",
    "plt.show() "
   ]
  },
  {
   "cell_type": "markdown",
   "metadata": {},
   "source": [
    "* Calculando o score para diferentes métodos e número de clusters"
   ]
  },
  {
   "cell_type": "code",
   "execution_count": 17,
   "metadata": {},
   "outputs": [
    {
     "data": {
      "text/html": [
       "<div>\n",
       "<style scoped>\n",
       "    .dataframe tbody tr th:only-of-type {\n",
       "        vertical-align: middle;\n",
       "    }\n",
       "\n",
       "    .dataframe tbody tr th {\n",
       "        vertical-align: top;\n",
       "    }\n",
       "\n",
       "    .dataframe thead th {\n",
       "        text-align: right;\n",
       "    }\n",
       "</style>\n",
       "<table border=\"1\" class=\"dataframe\">\n",
       "  <thead>\n",
       "    <tr style=\"text-align: right;\">\n",
       "      <th></th>\n",
       "      <th>Metodo</th>\n",
       "      <th>N_clusters</th>\n",
       "      <th>Score</th>\n",
       "    </tr>\n",
       "  </thead>\n",
       "  <tbody>\n",
       "    <tr>\n",
       "      <th>24</th>\n",
       "      <td>single</td>\n",
       "      <td>2</td>\n",
       "      <td>0.493476</td>\n",
       "    </tr>\n",
       "    <tr>\n",
       "      <th>25</th>\n",
       "      <td>single</td>\n",
       "      <td>3</td>\n",
       "      <td>0.438029</td>\n",
       "    </tr>\n",
       "    <tr>\n",
       "      <th>16</th>\n",
       "      <td>average</td>\n",
       "      <td>2</td>\n",
       "      <td>0.419670</td>\n",
       "    </tr>\n",
       "    <tr>\n",
       "      <th>26</th>\n",
       "      <td>single</td>\n",
       "      <td>4</td>\n",
       "      <td>0.395000</td>\n",
       "    </tr>\n",
       "    <tr>\n",
       "      <th>17</th>\n",
       "      <td>average</td>\n",
       "      <td>3</td>\n",
       "      <td>0.339164</td>\n",
       "    </tr>\n",
       "    <tr>\n",
       "      <th>2</th>\n",
       "      <td>ward</td>\n",
       "      <td>4</td>\n",
       "      <td>0.326655</td>\n",
       "    </tr>\n",
       "    <tr>\n",
       "      <th>3</th>\n",
       "      <td>ward</td>\n",
       "      <td>5</td>\n",
       "      <td>0.324886</td>\n",
       "    </tr>\n",
       "    <tr>\n",
       "      <th>0</th>\n",
       "      <td>ward</td>\n",
       "      <td>2</td>\n",
       "      <td>0.323200</td>\n",
       "    </tr>\n",
       "    <tr>\n",
       "      <th>6</th>\n",
       "      <td>ward</td>\n",
       "      <td>8</td>\n",
       "      <td>0.303265</td>\n",
       "    </tr>\n",
       "    <tr>\n",
       "      <th>7</th>\n",
       "      <td>ward</td>\n",
       "      <td>9</td>\n",
       "      <td>0.293913</td>\n",
       "    </tr>\n",
       "    <tr>\n",
       "      <th>5</th>\n",
       "      <td>ward</td>\n",
       "      <td>7</td>\n",
       "      <td>0.292049</td>\n",
       "    </tr>\n",
       "    <tr>\n",
       "      <th>4</th>\n",
       "      <td>ward</td>\n",
       "      <td>6</td>\n",
       "      <td>0.289380</td>\n",
       "    </tr>\n",
       "    <tr>\n",
       "      <th>8</th>\n",
       "      <td>complete</td>\n",
       "      <td>2</td>\n",
       "      <td>0.282480</td>\n",
       "    </tr>\n",
       "    <tr>\n",
       "      <th>23</th>\n",
       "      <td>average</td>\n",
       "      <td>9</td>\n",
       "      <td>0.277411</td>\n",
       "    </tr>\n",
       "    <tr>\n",
       "      <th>1</th>\n",
       "      <td>ward</td>\n",
       "      <td>3</td>\n",
       "      <td>0.276204</td>\n",
       "    </tr>\n",
       "    <tr>\n",
       "      <th>9</th>\n",
       "      <td>complete</td>\n",
       "      <td>3</td>\n",
       "      <td>0.271618</td>\n",
       "    </tr>\n",
       "    <tr>\n",
       "      <th>15</th>\n",
       "      <td>complete</td>\n",
       "      <td>9</td>\n",
       "      <td>0.270661</td>\n",
       "    </tr>\n",
       "    <tr>\n",
       "      <th>14</th>\n",
       "      <td>complete</td>\n",
       "      <td>8</td>\n",
       "      <td>0.269210</td>\n",
       "    </tr>\n",
       "    <tr>\n",
       "      <th>21</th>\n",
       "      <td>average</td>\n",
       "      <td>7</td>\n",
       "      <td>0.262345</td>\n",
       "    </tr>\n",
       "    <tr>\n",
       "      <th>22</th>\n",
       "      <td>average</td>\n",
       "      <td>8</td>\n",
       "      <td>0.253537</td>\n",
       "    </tr>\n",
       "    <tr>\n",
       "      <th>10</th>\n",
       "      <td>complete</td>\n",
       "      <td>4</td>\n",
       "      <td>0.252383</td>\n",
       "    </tr>\n",
       "    <tr>\n",
       "      <th>11</th>\n",
       "      <td>complete</td>\n",
       "      <td>5</td>\n",
       "      <td>0.246153</td>\n",
       "    </tr>\n",
       "    <tr>\n",
       "      <th>12</th>\n",
       "      <td>complete</td>\n",
       "      <td>6</td>\n",
       "      <td>0.219021</td>\n",
       "    </tr>\n",
       "    <tr>\n",
       "      <th>27</th>\n",
       "      <td>single</td>\n",
       "      <td>5</td>\n",
       "      <td>0.216364</td>\n",
       "    </tr>\n",
       "    <tr>\n",
       "      <th>13</th>\n",
       "      <td>complete</td>\n",
       "      <td>7</td>\n",
       "      <td>0.205175</td>\n",
       "    </tr>\n",
       "    <tr>\n",
       "      <th>19</th>\n",
       "      <td>average</td>\n",
       "      <td>5</td>\n",
       "      <td>0.203270</td>\n",
       "    </tr>\n",
       "    <tr>\n",
       "      <th>18</th>\n",
       "      <td>average</td>\n",
       "      <td>4</td>\n",
       "      <td>0.199857</td>\n",
       "    </tr>\n",
       "    <tr>\n",
       "      <th>20</th>\n",
       "      <td>average</td>\n",
       "      <td>6</td>\n",
       "      <td>0.196680</td>\n",
       "    </tr>\n",
       "    <tr>\n",
       "      <th>28</th>\n",
       "      <td>single</td>\n",
       "      <td>6</td>\n",
       "      <td>0.156465</td>\n",
       "    </tr>\n",
       "    <tr>\n",
       "      <th>30</th>\n",
       "      <td>single</td>\n",
       "      <td>8</td>\n",
       "      <td>0.129010</td>\n",
       "    </tr>\n",
       "    <tr>\n",
       "      <th>29</th>\n",
       "      <td>single</td>\n",
       "      <td>7</td>\n",
       "      <td>0.126121</td>\n",
       "    </tr>\n",
       "    <tr>\n",
       "      <th>31</th>\n",
       "      <td>single</td>\n",
       "      <td>9</td>\n",
       "      <td>0.071630</td>\n",
       "    </tr>\n",
       "  </tbody>\n",
       "</table>\n",
       "</div>"
      ],
      "text/plain": [
       "      Metodo N_clusters     Score\n",
       "24    single          2  0.493476\n",
       "25    single          3  0.438029\n",
       "16   average          2  0.419670\n",
       "26    single          4  0.395000\n",
       "17   average          3  0.339164\n",
       "2       ward          4  0.326655\n",
       "3       ward          5  0.324886\n",
       "0       ward          2  0.323200\n",
       "6       ward          8  0.303265\n",
       "7       ward          9  0.293913\n",
       "5       ward          7  0.292049\n",
       "4       ward          6  0.289380\n",
       "8   complete          2  0.282480\n",
       "23   average          9  0.277411\n",
       "1       ward          3  0.276204\n",
       "9   complete          3  0.271618\n",
       "15  complete          9  0.270661\n",
       "14  complete          8  0.269210\n",
       "21   average          7  0.262345\n",
       "22   average          8  0.253537\n",
       "10  complete          4  0.252383\n",
       "11  complete          5  0.246153\n",
       "12  complete          6  0.219021\n",
       "27    single          5  0.216364\n",
       "13  complete          7  0.205175\n",
       "19   average          5  0.203270\n",
       "18   average          4  0.199857\n",
       "20   average          6  0.196680\n",
       "28    single          6  0.156465\n",
       "30    single          8  0.129010\n",
       "29    single          7  0.126121\n",
       "31    single          9  0.071630"
      ]
     },
     "execution_count": 17,
     "metadata": {},
     "output_type": "execute_result"
    }
   ],
   "source": [
    "silhouette_scores = pd.DataFrame(columns=['Metodo','N_clusters','Score'])\n",
    "for metodo in ['ward','complete','average','single']:\n",
    "    for n_cluster in range(2, 10):\n",
    "        silhouette_scores =  silhouette_scores.append({'Metodo': metodo, 'N_clusters': n_cluster,\n",
    "                                  'Score':silhouette_score(df[['attack_padronizado','speed_padronizado']],AgglomerativeClustering(n_clusters = n_cluster, linkage = metodo).fit_predict(df[['attack_padronizado','speed_padronizado']]))},ignore_index=True)\n",
    "silhouette_scores\n",
    "silhouette_scores = silhouette_scores.sort_values(by = 'Score', ascending = False)\n",
    "silhouette_scores"
   ]
  },
  {
   "cell_type": "markdown",
   "metadata": {},
   "source": [
    "* Verificando a proporção de observações nos cluster"
   ]
  },
  {
   "cell_type": "code",
   "execution_count": 18,
   "metadata": {},
   "outputs": [
    {
     "data": {
      "text/plain": [
       "1    0.997503\n",
       "0    0.002497\n",
       "Name: cluster, dtype: float64"
      ]
     },
     "execution_count": 18,
     "metadata": {},
     "output_type": "execute_result"
    }
   ],
   "source": [
    "cluster = AgglomerativeClustering(n_clusters = 2, linkage = 'single')\n",
    "df['cluster'] = cluster.fit_predict(df[['attack_padronizado','speed_padronizado']])\n",
    "(pd.value_counts(df['cluster'])/len(df))"
   ]
  },
  {
   "cell_type": "code",
   "execution_count": 19,
   "metadata": {},
   "outputs": [
    {
     "data": {
      "text/plain": [
       "1    0.277154\n",
       "3    0.272160\n",
       "2    0.264669\n",
       "0    0.186017\n",
       "Name: cluster, dtype: float64"
      ]
     },
     "execution_count": 19,
     "metadata": {},
     "output_type": "execute_result"
    }
   ],
   "source": [
    "#Uma opção desejada pode ser escolher uma configuração de clusters que tenha proporção mais equilibrada de observações\n",
    "cluster = AgglomerativeClustering(n_clusters = 4, linkage = 'ward')\n",
    "df['cluster'] = cluster.fit_predict(df[['attack_padronizado','speed_padronizado']])\n",
    "(pd.value_counts(df['cluster'])/len(df))"
   ]
  },
  {
   "cell_type": "markdown",
   "metadata": {},
   "source": [
    "* Verificando os clusters com as variáveis originais"
   ]
  },
  {
   "cell_type": "code",
   "execution_count": 20,
   "metadata": {},
   "outputs": [
    {
     "data": {
      "text/plain": [
       "<seaborn.axisgrid.FacetGrid at 0x1d517ad5e10>"
      ]
     },
     "execution_count": 20,
     "metadata": {},
     "output_type": "execute_result"
    },
    {
     "data": {
      "image/png": "[encoded data removed]",
      "text/plain": [
       "<Figure size 360x360 with 1 Axes>"
      ]
     },
     "metadata": {
      "needs_background": "light"
     },
     "output_type": "display_data"
    }
   ],
   "source": [
    "sns.lmplot( x=\"attack\", y=\"speed\", data=df, fit_reg=False, hue='cluster', legend=False)"
   ]
  },
  {
   "cell_type": "markdown",
   "metadata": {},
   "source": [
    "* Inserindo mais variáveis para clusterizar"
   ]
  },
  {
   "cell_type": "code",
   "execution_count": 21,
   "metadata": {},
   "outputs": [],
   "source": [
    "df = pokemon[['attack','speed','defense','weight_kg']]"
   ]
  },
  {
   "cell_type": "code",
   "execution_count": 22,
   "metadata": {},
   "outputs": [
    {
     "data": {
      "text/plain": [
       "attack        0\n",
       "speed         0\n",
       "defense       0\n",
       "weight_kg    20\n",
       "dtype: int64"
      ]
     },
     "execution_count": 22,
     "metadata": {},
     "output_type": "execute_result"
    }
   ],
   "source": [
    "df.isna().sum()"
   ]
  },
  {
   "cell_type": "code",
   "execution_count": 23,
   "metadata": {},
   "outputs": [],
   "source": [
    "df.dropna(axis=0,inplace=True)"
   ]
  },
  {
   "cell_type": "code",
   "execution_count": 24,
   "metadata": {},
   "outputs": [],
   "source": [
    "# Normalizando as variáveis\n",
    "df['attack_padronizado'] = stats.zscore(df['attack'])\n",
    "df['speed_padronizado'] = stats.zscore(df['speed'])\n",
    "df['defense_padronizado'] = stats.zscore(df['defense'])\n",
    "df['peso_padronizado'] = stats.zscore(df['weight_kg'])\n",
    "df_c = df[['attack_padronizado','speed_padronizado','defense_padronizado','peso_padronizado']]"
   ]
  },
  {
   "cell_type": "code",
   "execution_count": 25,
   "metadata": {},
   "outputs": [
    {
     "data": {
      "text/html": [
       "<div>\n",
       "<style scoped>\n",
       "    .dataframe tbody tr th:only-of-type {\n",
       "        vertical-align: middle;\n",
       "    }\n",
       "\n",
       "    .dataframe tbody tr th {\n",
       "        vertical-align: top;\n",
       "    }\n",
       "\n",
       "    .dataframe thead th {\n",
       "        text-align: right;\n",
       "    }\n",
       "</style>\n",
       "<table border=\"1\" class=\"dataframe\">\n",
       "  <thead>\n",
       "    <tr style=\"text-align: right;\">\n",
       "      <th></th>\n",
       "      <th>Metodo</th>\n",
       "      <th>N_clusters</th>\n",
       "      <th>Score</th>\n",
       "    </tr>\n",
       "  </thead>\n",
       "  <tbody>\n",
       "    <tr>\n",
       "      <th>24</th>\n",
       "      <td>single</td>\n",
       "      <td>2</td>\n",
       "      <td>0.725282</td>\n",
       "    </tr>\n",
       "    <tr>\n",
       "      <th>8</th>\n",
       "      <td>complete</td>\n",
       "      <td>2</td>\n",
       "      <td>0.701923</td>\n",
       "    </tr>\n",
       "    <tr>\n",
       "      <th>16</th>\n",
       "      <td>average</td>\n",
       "      <td>2</td>\n",
       "      <td>0.692362</td>\n",
       "    </tr>\n",
       "    <tr>\n",
       "      <th>17</th>\n",
       "      <td>average</td>\n",
       "      <td>3</td>\n",
       "      <td>0.613569</td>\n",
       "    </tr>\n",
       "    <tr>\n",
       "      <th>27</th>\n",
       "      <td>single</td>\n",
       "      <td>5</td>\n",
       "      <td>0.597388</td>\n",
       "    </tr>\n",
       "    <tr>\n",
       "      <th>26</th>\n",
       "      <td>single</td>\n",
       "      <td>4</td>\n",
       "      <td>0.590837</td>\n",
       "    </tr>\n",
       "    <tr>\n",
       "      <th>25</th>\n",
       "      <td>single</td>\n",
       "      <td>3</td>\n",
       "      <td>0.589215</td>\n",
       "    </tr>\n",
       "    <tr>\n",
       "      <th>18</th>\n",
       "      <td>average</td>\n",
       "      <td>4</td>\n",
       "      <td>0.585254</td>\n",
       "    </tr>\n",
       "    <tr>\n",
       "      <th>28</th>\n",
       "      <td>single</td>\n",
       "      <td>6</td>\n",
       "      <td>0.578482</td>\n",
       "    </tr>\n",
       "    <tr>\n",
       "      <th>29</th>\n",
       "      <td>single</td>\n",
       "      <td>7</td>\n",
       "      <td>0.576955</td>\n",
       "    </tr>\n",
       "    <tr>\n",
       "      <th>30</th>\n",
       "      <td>single</td>\n",
       "      <td>8</td>\n",
       "      <td>0.556201</td>\n",
       "    </tr>\n",
       "    <tr>\n",
       "      <th>31</th>\n",
       "      <td>single</td>\n",
       "      <td>9</td>\n",
       "      <td>0.552399</td>\n",
       "    </tr>\n",
       "    <tr>\n",
       "      <th>9</th>\n",
       "      <td>complete</td>\n",
       "      <td>3</td>\n",
       "      <td>0.520632</td>\n",
       "    </tr>\n",
       "    <tr>\n",
       "      <th>19</th>\n",
       "      <td>average</td>\n",
       "      <td>5</td>\n",
       "      <td>0.387199</td>\n",
       "    </tr>\n",
       "    <tr>\n",
       "      <th>21</th>\n",
       "      <td>average</td>\n",
       "      <td>7</td>\n",
       "      <td>0.341114</td>\n",
       "    </tr>\n",
       "    <tr>\n",
       "      <th>22</th>\n",
       "      <td>average</td>\n",
       "      <td>8</td>\n",
       "      <td>0.340960</td>\n",
       "    </tr>\n",
       "    <tr>\n",
       "      <th>20</th>\n",
       "      <td>average</td>\n",
       "      <td>6</td>\n",
       "      <td>0.340714</td>\n",
       "    </tr>\n",
       "    <tr>\n",
       "      <th>23</th>\n",
       "      <td>average</td>\n",
       "      <td>9</td>\n",
       "      <td>0.325114</td>\n",
       "    </tr>\n",
       "    <tr>\n",
       "      <th>10</th>\n",
       "      <td>complete</td>\n",
       "      <td>4</td>\n",
       "      <td>0.284887</td>\n",
       "    </tr>\n",
       "    <tr>\n",
       "      <th>11</th>\n",
       "      <td>complete</td>\n",
       "      <td>5</td>\n",
       "      <td>0.257996</td>\n",
       "    </tr>\n",
       "  </tbody>\n",
       "</table>\n",
       "</div>"
      ],
      "text/plain": [
       "      Metodo N_clusters     Score\n",
       "24    single          2  0.725282\n",
       "8   complete          2  0.701923\n",
       "16   average          2  0.692362\n",
       "17   average          3  0.613569\n",
       "27    single          5  0.597388\n",
       "26    single          4  0.590837\n",
       "25    single          3  0.589215\n",
       "18   average          4  0.585254\n",
       "28    single          6  0.578482\n",
       "29    single          7  0.576955\n",
       "30    single          8  0.556201\n",
       "31    single          9  0.552399\n",
       "9   complete          3  0.520632\n",
       "19   average          5  0.387199\n",
       "21   average          7  0.341114\n",
       "22   average          8  0.340960\n",
       "20   average          6  0.340714\n",
       "23   average          9  0.325114\n",
       "10  complete          4  0.284887\n",
       "11  complete          5  0.257996"
      ]
     },
     "execution_count": 25,
     "metadata": {},
     "output_type": "execute_result"
    }
   ],
   "source": [
    "# Verificando o silhouette score conforme varia-se o método de cálculo da medida de similaridade entre os clusters e o número de agrupamentos\n",
    "silhouette_scores = pd.DataFrame(columns=['Metodo','N_clusters','Score'])\n",
    "for metodo in ['ward','complete','average','single']:\n",
    "    for n_cluster in range(2, 10):\n",
    "        silhouette_scores =  silhouette_scores.append({'Metodo': metodo, 'N_clusters': n_cluster,\n",
    "                                  'Score':silhouette_score(df_c,AgglomerativeClustering(n_clusters = n_cluster, linkage = metodo).fit_predict(df_c))},ignore_index=True)\n",
    "silhouette_scores\n",
    "silhouette_scores = silhouette_scores.sort_values(by = 'Score', ascending = False)\n",
    "silhouette_scores.head(20)"
   ]
  },
  {
   "cell_type": "code",
   "execution_count": 26,
   "metadata": {},
   "outputs": [],
   "source": [
    "silhouette_scores['N_clusters'] = silhouette_scores['N_clusters'].astype(int)"
   ]
  },
  {
   "cell_type": "markdown",
   "metadata": {},
   "source": [
    "* Verificando a proporção de observações em cada cluster variando o metodo e o numero de clusters "
   ]
  },
  {
   "cell_type": "code",
   "execution_count": 27,
   "metadata": {},
   "outputs": [
    {
     "name": "stdout",
     "output_type": "stream",
     "text": [
      "single 2 Score 0.7252817902633275\n",
      "0    0.99872\n",
      "1    0.00128\n",
      "Name: cluster, dtype: float64\n",
      "complete 2 Score 0.7019226633543582\n",
      "0    0.991037\n",
      "1    0.008963\n",
      "Name: cluster, dtype: float64\n",
      "average 2 Score 0.6923617489498815\n",
      "0    0.989757\n",
      "1    0.010243\n",
      "Name: cluster, dtype: float64\n",
      "average 3 Score 0.6135688218995357\n",
      "2    0.984635\n",
      "1    0.010243\n",
      "0    0.005122\n",
      "Name: cluster, dtype: float64\n",
      "single 5 Score 0.5973875158424674\n",
      "0    0.992318\n",
      "1    0.003841\n",
      "2    0.001280\n",
      "3    0.001280\n",
      "4    0.001280\n",
      "Name: cluster, dtype: float64\n",
      "single 4 Score 0.5908372244720301\n",
      "0    0.996159\n",
      "1    0.001280\n",
      "2    0.001280\n",
      "3    0.001280\n",
      "Name: cluster, dtype: float64\n",
      "single 3 Score 0.5892147301169736\n",
      "0    0.997439\n",
      "1    0.001280\n",
      "2    0.001280\n",
      "Name: cluster, dtype: float64\n",
      "average 4 Score 0.5852536625775625\n",
      "0    0.984635\n",
      "1    0.010243\n",
      "2    0.003841\n",
      "3    0.001280\n",
      "Name: cluster, dtype: float64\n",
      "single 6 Score 0.5784818503916803\n",
      "0    0.988476\n",
      "1    0.003841\n",
      "2    0.003841\n",
      "3    0.001280\n",
      "4    0.001280\n",
      "5    0.001280\n",
      "Name: cluster, dtype: float64\n",
      "single 7 Score 0.5769548296147273\n",
      "0    0.985915\n",
      "1    0.003841\n",
      "2    0.003841\n",
      "6    0.002561\n",
      "3    0.001280\n",
      "4    0.001280\n",
      "5    0.001280\n",
      "Name: cluster, dtype: float64\n",
      "single 8 Score 0.5562013423115781\n",
      "2    0.984635\n",
      "0    0.003841\n",
      "1    0.003841\n",
      "6    0.002561\n",
      "3    0.001280\n",
      "4    0.001280\n",
      "5    0.001280\n",
      "7    0.001280\n",
      "Name: cluster, dtype: float64\n",
      "single 9 Score 0.5523989723105809\n",
      "2    0.984635\n",
      "0    0.003841\n",
      "1    0.002561\n",
      "6    0.002561\n",
      "3    0.001280\n",
      "4    0.001280\n",
      "5    0.001280\n",
      "7    0.001280\n",
      "8    0.001280\n",
      "Name: cluster, dtype: float64\n",
      "complete 3 Score 0.5206316605691294\n",
      "0    0.978233\n",
      "2    0.012804\n",
      "1    0.008963\n",
      "Name: cluster, dtype: float64\n",
      "average 5 Score 0.38719872416919004\n",
      "0    0.980794\n",
      "1    0.010243\n",
      "2    0.003841\n",
      "4    0.003841\n",
      "3    0.001280\n",
      "Name: cluster, dtype: float64\n",
      "average 7 Score 0.34111379782672996\n",
      "1    0.978233\n",
      "0    0.005122\n",
      "2    0.005122\n",
      "4    0.003841\n",
      "6    0.003841\n",
      "5    0.002561\n",
      "3    0.001280\n",
      "Name: cluster, dtype: float64\n",
      "average 8 Score 0.34095976826933194\n",
      "0    0.978233\n",
      "2    0.005122\n",
      "1    0.003841\n",
      "4    0.003841\n",
      "6    0.003841\n",
      "5    0.002561\n",
      "3    0.001280\n",
      "7    0.001280\n",
      "Name: cluster, dtype: float64\n",
      "average 6 Score 0.3407144048684538\n",
      "1    0.978233\n",
      "0    0.010243\n",
      "2    0.003841\n",
      "4    0.003841\n",
      "5    0.002561\n",
      "3    0.001280\n",
      "Name: cluster, dtype: float64\n",
      "average 9 Score 0.325113559275673\n",
      "1    0.871959\n",
      "0    0.106274\n",
      "2    0.005122\n",
      "3    0.003841\n",
      "4    0.003841\n",
      "6    0.003841\n",
      "5    0.002561\n",
      "7    0.001280\n",
      "8    0.001280\n",
      "Name: cluster, dtype: float64\n",
      "complete 4 Score 0.2848866373494537\n",
      "3    0.565941\n",
      "0    0.412292\n",
      "2    0.012804\n",
      "1    0.008963\n",
      "Name: cluster, dtype: float64\n",
      "complete 5 Score 0.25799574937315634\n",
      "3    0.565941\n",
      "0    0.348271\n",
      "4    0.064020\n",
      "2    0.012804\n",
      "1    0.008963\n",
      "Name: cluster, dtype: float64\n",
      "ward 3 Score 0.23779586935844685\n",
      "0    0.646607\n",
      "1    0.344430\n",
      "2    0.008963\n",
      "Name: cluster, dtype: float64\n",
      "complete 6 Score 0.23473746602509046\n",
      "3    0.565941\n",
      "2    0.303457\n",
      "4    0.064020\n",
      "5    0.044814\n",
      "0    0.012804\n",
      "1    0.008963\n",
      "Name: cluster, dtype: float64\n",
      "complete 7 Score 0.23377236384418348\n",
      "3    0.565941\n",
      "0    0.303457\n",
      "4    0.064020\n",
      "5    0.044814\n",
      "2    0.011524\n",
      "1    0.008963\n",
      "6    0.001280\n",
      "Name: cluster, dtype: float64\n",
      "ward 2 Score 0.2219708165436649\n",
      "0    0.65557\n",
      "1    0.34443\n",
      "Name: cluster, dtype: float64\n",
      "complete 8 Score 0.21885810986220564\n",
      "3    0.565941\n",
      "4    0.250960\n",
      "1    0.064020\n",
      "7    0.052497\n",
      "5    0.044814\n",
      "2    0.011524\n",
      "0    0.008963\n",
      "6    0.001280\n",
      "Name: cluster, dtype: float64\n",
      "complete 9 Score 0.2166394501089233\n",
      "3    0.565941\n",
      "1    0.250960\n",
      "0    0.064020\n",
      "7    0.052497\n",
      "5    0.044814\n",
      "2    0.011524\n",
      "4    0.005122\n",
      "8    0.003841\n",
      "6    0.001280\n",
      "Name: cluster, dtype: float64\n",
      "ward 4 Score 0.2159649744937462\n",
      "3    0.344430\n",
      "1    0.327785\n",
      "0    0.318822\n",
      "2    0.008963\n",
      "Name: cluster, dtype: float64\n",
      "ward 7 Score 0.2053392349842046\n",
      "1    0.344430\n",
      "0    0.263764\n",
      "3    0.148528\n",
      "2    0.138284\n",
      "4    0.055058\n",
      "6    0.040973\n",
      "5    0.008963\n",
      "Name: cluster, dtype: float64\n",
      "ward 8 Score 0.20257252269725742\n",
      "0    0.344430\n",
      "1    0.148528\n",
      "2    0.138284\n",
      "3    0.138284\n",
      "7    0.125480\n",
      "4    0.055058\n",
      "6    0.040973\n",
      "5    0.008963\n",
      "Name: cluster, dtype: float64\n",
      "ward 6 Score 0.1983314461038503\n",
      "3    0.344430\n",
      "1    0.263764\n",
      "0    0.189501\n",
      "2    0.138284\n",
      "4    0.055058\n",
      "5    0.008963\n",
      "Name: cluster, dtype: float64\n",
      "ward 5 Score 0.19517268842490454\n",
      "3    0.344430\n",
      "0    0.327785\n",
      "1    0.263764\n",
      "4    0.055058\n",
      "2    0.008963\n",
      "Name: cluster, dtype: float64\n",
      "ward 9 Score 0.18964018688646067\n",
      "4    0.199744\n",
      "0    0.148528\n",
      "8    0.144686\n",
      "2    0.138284\n",
      "3    0.138284\n",
      "7    0.125480\n",
      "1    0.055058\n",
      "6    0.040973\n",
      "5    0.008963\n",
      "Name: cluster, dtype: float64\n"
     ]
    }
   ],
   "source": [
    "for x,y,z in zip(silhouette_scores.Metodo,silhouette_scores.N_clusters,silhouette_scores.Score):\n",
    "    cluster = AgglomerativeClustering(n_clusters = y, linkage = x)\n",
    "    df['cluster'] = cluster.fit_predict(df_c)\n",
    "    print(x,y,'Score',z)\n",
    "    print((pd.value_counts(df['cluster'])/len(df)))"
   ]
  },
  {
   "cell_type": "markdown",
   "metadata": {},
   "source": [
    "* Inserindo o cluster de cada observação "
   ]
  },
  {
   "cell_type": "code",
   "execution_count": 29,
   "metadata": {},
   "outputs": [],
   "source": [
    "cluster = AgglomerativeClustering(n_clusters = 2, linkage = 'single')\n",
    "df['cluster'] = cluster.fit_predict(df_c)\n",
    "df = df[['attack','speed','defense','weight_kg','cluster']]\n",
    "df['cluster'] = df['cluster'].astype(str)"
   ]
  },
  {
   "cell_type": "code",
   "execution_count": 30,
   "metadata": {},
   "outputs": [
    {
     "data": {
      "text/html": [
       "<div>\n",
       "<style scoped>\n",
       "    .dataframe tbody tr th:only-of-type {\n",
       "        vertical-align: middle;\n",
       "    }\n",
       "\n",
       "    .dataframe tbody tr th {\n",
       "        vertical-align: top;\n",
       "    }\n",
       "\n",
       "    .dataframe thead th {\n",
       "        text-align: right;\n",
       "    }\n",
       "</style>\n",
       "<table border=\"1\" class=\"dataframe\">\n",
       "  <thead>\n",
       "    <tr style=\"text-align: right;\">\n",
       "      <th></th>\n",
       "      <th>attack</th>\n",
       "      <th>speed</th>\n",
       "      <th>defense</th>\n",
       "      <th>weight_kg</th>\n",
       "      <th>cluster</th>\n",
       "    </tr>\n",
       "  </thead>\n",
       "  <tbody>\n",
       "    <tr>\n",
       "      <th>0</th>\n",
       "      <td>49</td>\n",
       "      <td>45</td>\n",
       "      <td>49</td>\n",
       "      <td>6.9</td>\n",
       "      <td>0</td>\n",
       "    </tr>\n",
       "    <tr>\n",
       "      <th>1</th>\n",
       "      <td>62</td>\n",
       "      <td>60</td>\n",
       "      <td>63</td>\n",
       "      <td>13.0</td>\n",
       "      <td>0</td>\n",
       "    </tr>\n",
       "    <tr>\n",
       "      <th>2</th>\n",
       "      <td>100</td>\n",
       "      <td>80</td>\n",
       "      <td>123</td>\n",
       "      <td>100.0</td>\n",
       "      <td>0</td>\n",
       "    </tr>\n",
       "    <tr>\n",
       "      <th>3</th>\n",
       "      <td>52</td>\n",
       "      <td>65</td>\n",
       "      <td>43</td>\n",
       "      <td>8.5</td>\n",
       "      <td>0</td>\n",
       "    </tr>\n",
       "    <tr>\n",
       "      <th>4</th>\n",
       "      <td>64</td>\n",
       "      <td>80</td>\n",
       "      <td>58</td>\n",
       "      <td>19.0</td>\n",
       "      <td>0</td>\n",
       "    </tr>\n",
       "  </tbody>\n",
       "</table>\n",
       "</div>"
      ],
      "text/plain": [
       "   attack  speed  defense  weight_kg cluster\n",
       "0      49     45       49        6.9       0\n",
       "1      62     60       63       13.0       0\n",
       "2     100     80      123      100.0       0\n",
       "3      52     65       43        8.5       0\n",
       "4      64     80       58       19.0       0"
      ]
     },
     "execution_count": 30,
     "metadata": {},
     "output_type": "execute_result"
    }
   ],
   "source": [
    "df.head()"
   ]
  },
  {
   "cell_type": "markdown",
   "metadata": {},
   "source": [
    "* Dado os clusters formados, verifica-se como cada um esta caracterizado conforme as variáveis utilizadas"
   ]
  },
  {
   "cell_type": "code",
   "execution_count": 31,
   "metadata": {},
   "outputs": [
    {
     "data": {
      "text/html": [
       "<div>\n",
       "<style scoped>\n",
       "    .dataframe tbody tr th:only-of-type {\n",
       "        vertical-align: middle;\n",
       "    }\n",
       "\n",
       "    .dataframe tbody tr th {\n",
       "        vertical-align: top;\n",
       "    }\n",
       "\n",
       "    .dataframe thead th {\n",
       "        text-align: right;\n",
       "    }\n",
       "</style>\n",
       "<table border=\"1\" class=\"dataframe\">\n",
       "  <thead>\n",
       "    <tr style=\"text-align: right;\">\n",
       "      <th></th>\n",
       "      <th>cluster</th>\n",
       "      <th>attack</th>\n",
       "      <th>speed</th>\n",
       "      <th>defense</th>\n",
       "      <th>weight_kg</th>\n",
       "    </tr>\n",
       "  </thead>\n",
       "  <tbody>\n",
       "    <tr>\n",
       "      <th>0</th>\n",
       "      <td>0</td>\n",
       "      <td>77.562821</td>\n",
       "      <td>66.248718</td>\n",
       "      <td>72.891026</td>\n",
       "      <td>60.238846</td>\n",
       "    </tr>\n",
       "    <tr>\n",
       "      <th>1</th>\n",
       "      <td>1</td>\n",
       "      <td>180.000000</td>\n",
       "      <td>90.000000</td>\n",
       "      <td>160.000000</td>\n",
       "      <td>950.000000</td>\n",
       "    </tr>\n",
       "  </tbody>\n",
       "</table>\n",
       "</div>"
      ],
      "text/plain": [
       "  cluster      attack      speed     defense   weight_kg\n",
       "0       0   77.562821  66.248718   72.891026   60.238846\n",
       "1       1  180.000000  90.000000  160.000000  950.000000"
      ]
     },
     "execution_count": 31,
     "metadata": {},
     "output_type": "execute_result"
    }
   ],
   "source": [
    "df.groupby(\"cluster\").mean().reset_index()"
   ]
  },
  {
   "cell_type": "markdown",
   "metadata": {},
   "source": [
    "* Mesma analise anterior, só que com outra configuração de cluster"
   ]
  },
  {
   "cell_type": "code",
   "execution_count": 38,
   "metadata": {},
   "outputs": [],
   "source": [
    "df = pokemon[['attack','speed','defense','weight_kg']]\n",
    "df.dropna(axis=0,inplace=True)\n",
    "cluster = AgglomerativeClustering(n_clusters = 4, linkage = 'complete')\n",
    "df['cluster'] = cluster.fit_predict(df_c)\n",
    "df = df[['attack','speed','defense','weight_kg','cluster']]\n",
    "df['cluster'] = df['cluster'].astype(str)"
   ]
  },
  {
   "cell_type": "code",
   "execution_count": 39,
   "metadata": {},
   "outputs": [
    {
     "data": {
      "text/html": [
       "<div>\n",
       "<style scoped>\n",
       "    .dataframe tbody tr th:only-of-type {\n",
       "        vertical-align: middle;\n",
       "    }\n",
       "\n",
       "    .dataframe tbody tr th {\n",
       "        vertical-align: top;\n",
       "    }\n",
       "\n",
       "    .dataframe thead th {\n",
       "        text-align: right;\n",
       "    }\n",
       "</style>\n",
       "<table border=\"1\" class=\"dataframe\">\n",
       "  <thead>\n",
       "    <tr style=\"text-align: right;\">\n",
       "      <th></th>\n",
       "      <th>cluster</th>\n",
       "      <th>attack</th>\n",
       "      <th>speed</th>\n",
       "      <th>defense</th>\n",
       "      <th>weight_kg</th>\n",
       "    </tr>\n",
       "  </thead>\n",
       "  <tbody>\n",
       "    <tr>\n",
       "      <th>0</th>\n",
       "      <td>0</td>\n",
       "      <td>101.015528</td>\n",
       "      <td>81.099379</td>\n",
       "      <td>91.515528</td>\n",
       "      <td>85.477019</td>\n",
       "    </tr>\n",
       "    <tr>\n",
       "      <th>1</th>\n",
       "      <td>1</td>\n",
       "      <td>110.857143</td>\n",
       "      <td>63.714286</td>\n",
       "      <td>109.571429</td>\n",
       "      <td>884.400000</td>\n",
       "    </tr>\n",
       "    <tr>\n",
       "      <th>2</th>\n",
       "      <td>2</td>\n",
       "      <td>81.400000</td>\n",
       "      <td>40.300000</td>\n",
       "      <td>190.700000</td>\n",
       "      <td>242.600000</td>\n",
       "    </tr>\n",
       "    <tr>\n",
       "      <th>3</th>\n",
       "      <td>3</td>\n",
       "      <td>60.095023</td>\n",
       "      <td>56.110860</td>\n",
       "      <td>56.273756</td>\n",
       "      <td>26.687557</td>\n",
       "    </tr>\n",
       "  </tbody>\n",
       "</table>\n",
       "</div>"
      ],
      "text/plain": [
       "  cluster      attack      speed     defense   weight_kg\n",
       "0       0  101.015528  81.099379   91.515528   85.477019\n",
       "1       1  110.857143  63.714286  109.571429  884.400000\n",
       "2       2   81.400000  40.300000  190.700000  242.600000\n",
       "3       3   60.095023  56.110860   56.273756   26.687557"
      ]
     },
     "execution_count": 39,
     "metadata": {},
     "output_type": "execute_result"
    }
   ],
   "source": [
    "df.groupby(\"cluster\").mean().reset_index()"
   ]
  },
  {
   "cell_type": "code",
   "execution_count": null,
   "metadata": {},
   "outputs": [],
   "source": []
  },
  {
   "cell_type": "markdown",
   "metadata": {},
   "source": [
    "# Clusterização Não-Hierárquica"
   ]
  },
  {
   "cell_type": "code",
   "execution_count": 46,
   "metadata": {},
   "outputs": [],
   "source": [
    "from sklearn.cluster import KMeans"
   ]
  },
  {
   "cell_type": "markdown",
   "metadata": {},
   "source": [
    "* Separando algumas variáveis da base"
   ]
  },
  {
   "cell_type": "code",
   "execution_count": 42,
   "metadata": {},
   "outputs": [],
   "source": [
    "df = pokemon[['sp_attack','sp_defense']]"
   ]
  },
  {
   "cell_type": "markdown",
   "metadata": {},
   "source": [
    "* Padronizando a escala das variáveis "
   ]
  },
  {
   "cell_type": "code",
   "execution_count": 43,
   "metadata": {},
   "outputs": [],
   "source": [
    "df['sp_attack_padronizado'] = stats.zscore(df['sp_attack'])\n",
    "df['sp_defense_padronizado'] = stats.zscore(df['sp_defense'])\n",
    "df_c = df[['sp_attack_padronizado','sp_defense_padronizado']]"
   ]
  },
  {
   "cell_type": "code",
   "execution_count": 44,
   "metadata": {},
   "outputs": [
    {
     "data": {
      "text/plain": [
       "sp_attack_padronizado     float64\n",
       "sp_defense_padronizado    float64\n",
       "dtype: object"
      ]
     },
     "execution_count": 44,
     "metadata": {},
     "output_type": "execute_result"
    }
   ],
   "source": [
    "df_c.dtypes"
   ]
  },
  {
   "cell_type": "markdown",
   "metadata": {},
   "source": [
    "* Configuração do algoritmo Kmeans\n",
    "    * init = 'random'; escolha aleatória dos centróides iniciais\n",
    "    * n_init - Número de vezes que o algoritmo será executado com distintos centróides\n",
    "    * max_iter - Número máximo de iterações do algoritmo em uma execução\n",
    "    * n_clusters - número de clusters a serem formados, assim como o número de centróides"
   ]
  },
  {
   "cell_type": "code",
   "execution_count": 47,
   "metadata": {},
   "outputs": [],
   "source": [
    "kmeans = KMeans(init = 'random',n_init = 30,max_iter = 400,n_clusters=3, random_state=50).fit(df_c)"
   ]
  },
  {
   "cell_type": "code",
   "execution_count": 48,
   "metadata": {},
   "outputs": [],
   "source": [
    "df['clusters'] = kmeans.labels_"
   ]
  },
  {
   "cell_type": "markdown",
   "metadata": {},
   "source": [
    "* Plotando os clusters definidos"
   ]
  },
  {
   "cell_type": "code",
   "execution_count": 49,
   "metadata": {},
   "outputs": [
    {
     "data": {
      "text/plain": [
       "<seaborn.axisgrid.FacetGrid at 0x1d5185084a8>"
      ]
     },
     "execution_count": 49,
     "metadata": {},
     "output_type": "execute_result"
    },
    {
     "data": {
      "image/png": "[encoded data removed]",
      "text/plain": [
       "<Figure size 360x360 with 1 Axes>"
      ]
     },
     "metadata": {
      "needs_background": "light"
     },
     "output_type": "display_data"
    }
   ],
   "source": [
    "sns.lmplot( x=\"sp_attack\", y=\"sp_defense\", data=df, fit_reg=False, hue='clusters', legend=False)"
   ]
  },
  {
   "cell_type": "markdown",
   "metadata": {},
   "source": [
    "* Calculo da soma do quadrado das distâncias de cada observaçao em relação ao centróide do cluster, variando conforme a quantidade de grupos estabelecidos"
   ]
  },
  {
   "cell_type": "code",
   "execution_count": 54,
   "metadata": {},
   "outputs": [],
   "source": [
    "sse = []\n",
    "for x in range(2, 16):\n",
    "    kmeans = KMeans(init = 'random',n_init = 30,max_iter = 400,n_clusters=x,random_state=50)\n",
    "    kmeans.fit(df_c)\n",
    "    sse.append(kmeans.inertia_)"
   ]
  },
  {
   "cell_type": "code",
   "execution_count": 55,
   "metadata": {},
   "outputs": [
    {
     "data": {
      "image/png": "[encoded data removed]",
      "text/plain": [
       "<Figure size 432x288 with 1 Axes>"
      ]
     },
     "metadata": {
      "needs_background": "light"
     },
     "output_type": "display_data"
    }
   ],
   "source": [
    "plt.plot(range(1, 15), sse)\n",
    "plt.xticks(range(1, 15))\n",
    "plt.xlabel(\"Quantidade de Clusters\")\n",
    "plt.ylabel(\"SSE\")\n",
    "plt.show()\n",
    "#Aparentemente, o erro se estabiliza conforme vamos de 7 clusters em diante"
   ]
  },
  {
   "cell_type": "markdown",
   "metadata": {},
   "source": [
    "* Plotando os clusters formados"
   ]
  },
  {
   "cell_type": "code",
   "execution_count": 57,
   "metadata": {},
   "outputs": [
    {
     "data": {
      "text/plain": [
       "<seaborn.axisgrid.FacetGrid at 0x1d51a6ee400>"
      ]
     },
     "execution_count": 57,
     "metadata": {},
     "output_type": "execute_result"
    },
    {
     "data": {
      "image/png": "[encoded data removed]",
      "text/plain": [
       "<Figure size 360x360 with 1 Axes>"
      ]
     },
     "metadata": {
      "needs_background": "light"
     },
     "output_type": "display_data"
    }
   ],
   "source": [
    "kmeans = KMeans(init = 'random',n_init = 30,max_iter = 400,n_clusters=8, random_state=50).fit(df_c)\n",
    "df['clusters'] = kmeans.labels_\n",
    "sns.lmplot( x=\"sp_attack\", y=\"sp_defense\", data=df, fit_reg=False, hue='clusters', legend=False)"
   ]
  },
  {
   "cell_type": "code",
   "execution_count": 58,
   "metadata": {},
   "outputs": [],
   "source": [
    "#Calcula-se os silhoutte scores para diferentes número de clusters\n",
    "silhouette_scores = []\n",
    "for x in range(2, 15):\n",
    "    kmeans = KMeans(init = 'random',n_init = 30,max_iter = 400,n_clusters=x,random_state=50)\n",
    "    kmeans.fit(df_c)\n",
    "    score = silhouette_score(df_c, kmeans.labels_)\n",
    "    silhouette_scores.append(score)"
   ]
  },
  {
   "cell_type": "code",
   "execution_count": 59,
   "metadata": {},
   "outputs": [
    {
     "data": {
      "image/png": "[encoded data removed]",
      "text/plain": [
       "<Figure size 432x288 with 1 Axes>"
      ]
     },
     "metadata": {
      "needs_background": "light"
     },
     "output_type": "display_data"
    }
   ],
   "source": [
    "plt.plot(range(2, 15), silhouette_scores)\n",
    "plt.xticks(range(2, 15))\n",
    "plt.xlabel(\"Quantidade de Clusters\")\n",
    "plt.ylabel(\"Silhouette Score\")\n",
    "plt.show()"
   ]
  },
  {
   "cell_type": "code",
   "execution_count": 60,
   "metadata": {},
   "outputs": [
    {
     "data": {
      "text/plain": [
       "<seaborn.axisgrid.FacetGrid at 0x1d51a7bb7b8>"
      ]
     },
     "execution_count": 60,
     "metadata": {},
     "output_type": "execute_result"
    },
    {
     "data": {
      "image/png": "[encoded data removed]",
      "text/plain": [
       "<Figure size 360x360 with 1 Axes>"
      ]
     },
     "metadata": {
      "needs_background": "light"
     },
     "output_type": "display_data"
    }
   ],
   "source": [
    "kmeans = KMeans(init = 'random',n_init = 30,max_iter = 400,n_clusters=4, random_state=50).fit(df_c)\n",
    "df['clusters'] = kmeans.labels_\n",
    "sns.lmplot( x=\"sp_attack\", y=\"sp_defense\", data=df, fit_reg=False, hue='clusters', legend=False)"
   ]
  },
  {
   "cell_type": "code",
   "execution_count": null,
   "metadata": {},
   "outputs": [],
   "source": []
  },
  {
   "cell_type": "code",
   "execution_count": null,
   "metadata": {},
   "outputs": [],
   "source": []
  }
 ],
 "metadata": {
  "kernelspec": {
   "display_name": "Python 3",
   "language": "python",
   "name": "python3"
  },
  "language_info": {
   "codemirror_mode": {
    "name": "ipython",
    "version": 3
   },
   "file_extension": ".py",
   "mimetype": "text/x-python",
   "name": "python",
   "nbconvert_exporter": "python",
   "pygments_lexer": "ipython3",
   "version": "3.7.1"
  }
 },
 "nbformat": 4,
 "nbformat_minor": 4
}
